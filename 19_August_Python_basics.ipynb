{
 "cells": [
  {
   "cell_type": "code",
   "execution_count": 1,
   "id": "698df4ba",
   "metadata": {},
   "outputs": [
    {
     "name": "stdout",
     "output_type": "stream",
     "text": [
      "x = 2002\n",
      "y = 1509\n"
     ]
    }
   ],
   "source": [
    "                                   # Python Basics Variable\n",
    "''' Q.1 Declare two variables, `x` and `y`, and assign them integer values. Swap the\n",
    "values of these variables without using any temporary variable.'''\n",
    "x= 1509\n",
    "y= 2002\n",
    "x, y = y, x  # swapping the values\n",
    "print(\"x =\", x)\n",
    "print(\"y =\", y)"
   ]
  },
  {
   "cell_type": "code",
   "execution_count": 2,
   "id": "6e072af1",
   "metadata": {},
   "outputs": [
    {
     "name": "stdout",
     "output_type": "stream",
     "text": [
      "Enter the length of your rectangle: 9.5\n",
      "Enter the width of your rectangle: 8.6\n",
      "area of your rectangle is:  81.7\n"
     ]
    }
   ],
   "source": [
    "''' Q.2 Create a program that calculates the area of a rectangle. Take the length and\n",
    "width as inputs from the user and store them in variables. Calculate and\n",
    "display the area.'''\n",
    "\n",
    "length = float(input(\"Enter the length of your rectangle: \")) # taking input of length\n",
    "width = float(input(\"Enter the width of your rectangle: \"))   # taking input of Breadth\n",
    "Area = print(\"area of your rectangle is: \",length*width)      # giving output of area(area = length*breadth)"
   ]
  },
  {
   "cell_type": "code",
   "execution_count": 3,
   "id": "75ddd935",
   "metadata": {},
   "outputs": [
    {
     "name": "stdout",
     "output_type": "stream",
     "text": [
      "Enter The Celsius: 38\n",
      "Your Converted Fahrenheit is:  100.4\n"
     ]
    }
   ],
   "source": [
    "''' Q.3 Write a Python program that converts temperatures from Celsius to\n",
    "Fahrenheit. Take the temperature in Celsius as input, store it in a variable,\n",
    "convert it to Fahrenheit, and display the result.'''\n",
    "\n",
    "Celsius = float(input(\"Enter The Celsius: \")) # geeting input of celcius from user\n",
    "fahrenheit = print(\"Your Converted Fahrenheit is: \",(Celsius*1.8)+32) # converting celsius into fahrenheith"
   ]
  },
  {
   "cell_type": "code",
   "execution_count": 4,
   "id": "74ec347d",
   "metadata": {},
   "outputs": [
    {
     "name": "stdout",
     "output_type": "stream",
     "text": [
      "enter your string: rishabh jaiswal\n"
     ]
    },
    {
     "data": {
      "text/plain": [
       "15"
      ]
     },
     "execution_count": 4,
     "metadata": {},
     "output_type": "execute_result"
    }
   ],
   "source": [
    "                                   #String Based Questions\n",
    "''' Q.1 Write a Python program that takes a string as input and prints the length of\n",
    "the string.'''\n",
    "\n",
    "s = input(\"enter your string: \") # getting input of string\n",
    "len(s)                           #printing the length of string"
   ]
  },
  {
   "cell_type": "code",
   "execution_count": 6,
   "id": "bbfb58ad",
   "metadata": {},
   "outputs": [
    {
     "name": "stdout",
     "output_type": "stream",
     "text": [
      "enter your sentence: my name is rishabh jaiswal\n",
      "Number of vowels in your Sentence is:  8\n"
     ]
    }
   ],
   "source": [
    "''' Q.2 Create a program that takes a sentence from the user and counts the number\n",
    "of vowels (a, e, i, o, u) in the string.'''\n",
    "\n",
    "s = input(\"enter your sentence: \")# getting input of sentence\n",
    "vowels = \"aeiouAEIOU\" # specifying the vowels\n",
    "\n",
    "count = sum(s.count(vowel) for vowel in vowels) #counting the vowels\n",
    "print(\"Number of vowels in your Sentence is: \",count) "
   ]
  },
  {
   "cell_type": "code",
   "execution_count": 7,
   "id": "e50f850f",
   "metadata": {},
   "outputs": [
    {
     "data": {
      "text/plain": [
       "'hbahsir'"
      ]
     },
     "execution_count": 7,
     "metadata": {},
     "output_type": "execute_result"
    }
   ],
   "source": [
    "''' Q.3 Given a string, reverse the order of characters using string slicing and print\n",
    "the reversed string.'''\n",
    "\n",
    "s = \"rishabh\"\n",
    "s[6: :-1] #printing the reverse string"
   ]
  },
  {
   "cell_type": "code",
   "execution_count": 8,
   "id": "674c38fd",
   "metadata": {},
   "outputs": [
    {
     "name": "stdout",
     "output_type": "stream",
     "text": [
      "enter your string: rishabh\n",
      "no\n"
     ]
    }
   ],
   "source": [
    "''' Q.4 Write a program that takes a string as input and checks if it is a palindrome\n",
    "(reads the same forwards and backwards).'''\n",
    "\n",
    "s = input(\"enter your string: \")\n",
    "if s == s[::-1]: # cheking that if it is a palindrome\n",
    "    print(\"yes\")\n",
    "else:\n",
    "    print(\"no\")"
   ]
  },
  {
   "cell_type": "code",
   "execution_count": 9,
   "id": "81766c13",
   "metadata": {},
   "outputs": [
    {
     "name": "stdout",
     "output_type": "stream",
     "text": [
      "enter your string: pwskills is the best platform to learn datasceince\n",
      "Your string without spaces is pwskillsisthebestplatformtolearndatasceince\n"
     ]
    }
   ],
   "source": [
    "''' Q.5 Create a program that takes a string as input and removes all the spaces from\n",
    "it. Print the modified string without spaces.'''\n",
    "\n",
    "s =input(\"enter your string: \")\n",
    "\n",
    "l = len(s)  # finding length of the string\n",
    "\n",
    "c = s.count(' ')  # counting the number of whitespaces\n",
    "\n",
    "s = s.replace(' ', '')  # replacing the whitespaces\n",
    "\n",
    "s = s[:l - c]  # removing all the whitespaces\n",
    "\n",
    "print(\"Your string without spaces is\", s)"
   ]
  },
  {
   "cell_type": "code",
   "execution_count": null,
   "id": "88021bff",
   "metadata": {},
   "outputs": [],
   "source": []
  }
 ],
 "metadata": {
  "kernelspec": {
   "display_name": "Python 3 (ipykernel)",
   "language": "python",
   "name": "python3"
  },
  "language_info": {
   "codemirror_mode": {
    "name": "ipython",
    "version": 3
   },
   "file_extension": ".py",
   "mimetype": "text/x-python",
   "name": "python",
   "nbconvert_exporter": "python",
   "pygments_lexer": "ipython3",
   "version": "3.11.4"
  }
 },
 "nbformat": 4,
 "nbformat_minor": 5
}
